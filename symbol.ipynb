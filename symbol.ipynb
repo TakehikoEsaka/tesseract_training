{
 "cells": [
  {
   "cell_type": "code",
   "execution_count": 1,
   "metadata": {},
   "outputs": [],
   "source": [
    "import urllib.request\n",
    "import re"
   ]
  },
  {
   "cell_type": "code",
   "execution_count": 2,
   "metadata": {},
   "outputs": [],
   "source": [
    "chars = {}"
   ]
  },
  {
   "cell_type": "code",
   "execution_count": 3,
   "metadata": {},
   "outputs": [],
   "source": [
    "# add_listの文字と半角カタカナ、全角英数字はlangdata/jpn/forbidden_charactersに含まれていてもchars.txtへ出力する\n",
    "add_list = [\n",
    "                0x25b2,  # ▲\n",
    "                0x25b3,  # △\n",
    "            ]\n"
   ]
  },
  {
   "cell_type": "code",
   "execution_count": 4,
   "metadata": {},
   "outputs": [],
   "source": [
    "with urllib.request.urlopen('http://x0213.org/codetable/sjis-0213-2004-std.txt') as f:\n",
    "    for line in f.read().decode('ascii').splitlines():\n",
    "        if line[0] == '#':\n",
    "            continue\n",
    "        else:\n",
    "            m = re.search('U\\+([0-9a-f]{4})', line, flags=re.I) #恐らく大量の文字をここで取得している\n",
    "            if m:\n",
    "                code = int(m.group(1), base=16) #16進数をint型に変換\n",
    "                #print(code)\n",
    "                if code > 0x20: #0x20は10進数で32を意味する\n",
    "                    chars[code] = True"
   ]
  },
  {
   "cell_type": "code",
   "execution_count": 5,
   "metadata": {},
   "outputs": [],
   "source": [
    "del_list = {}\n",
    "with open('./jpn/forbidden_characters') as f:\n",
    "    for line in f:\n",
    "        m = re.search('0x([0-9a-f]{2,4})(-0x([0-9a-f]{2,4}))?\\s*$', line, flags=re.I)\n",
    "        if m:\n",
    "            if m.group(2):\n",
    "                range_s = [int(m.group(1), base=16), int(m.group(3), base=16)]\n",
    "            else:\n",
    "                range_s = [int(m.group(1), base=16), int(m.group(1), base=16)]\n",
    "        for c in chars:\n",
    "            if range_s[0] <= c <= range_s[1]:\n",
    "#                 if not (ord('｡') <= c <= ord('ﾟ')  # NOT 半角カタカナ\n",
    "#                         or ord('！') <= c <= ord('｝')):  # NOT 全角英数字\n",
    "                #print(\"%s excluded as %x - %x\" % (chr(c), range_s[0], range_s[1])) #ここに表示される文字は消される\n",
    "                del_list[c] = True"
   ]
  },
  {
   "cell_type": "code",
   "execution_count": 6,
   "metadata": {},
   "outputs": [],
   "source": [
    "for c in del_list:\n",
    "    del chars[c]"
   ]
  },
  {
   "cell_type": "code",
   "execution_count": 7,
   "metadata": {},
   "outputs": [],
   "source": [
    "for c in add_list:\n",
    "    chars[c] = True"
   ]
  },
  {
   "cell_type": "code",
   "execution_count": 8,
   "metadata": {},
   "outputs": [],
   "source": [
    "with open('chars.txt', 'w') as wf:\n",
    "    for code in sorted(chars):\n",
    "        print(\"0x%x,%s\" % (code, chr(code)), file=wf)"
   ]
  },
  {
   "cell_type": "code",
   "execution_count": 9,
   "metadata": {},
   "outputs": [
    {
     "name": "stdout",
     "output_type": "stream",
     "text": [
      "▲\n"
     ]
    }
   ],
   "source": [
    "print(chr(0x25b2))"
   ]
  },
  {
   "cell_type": "code",
   "execution_count": null,
   "metadata": {},
   "outputs": [],
   "source": []
  },
  {
   "cell_type": "markdown",
   "metadata": {},
   "source": [
    "この文字コード一覧（chars.txt）を基準として、単語辞書をもとに学習用テキストを作成"
   ]
  },
  {
   "cell_type": "raw",
   "metadata": {},
   "source": [
    "#辞書インストール\n",
    "!git clone --depth 1 git://github.com/neologd/mecab-ipadic-neologd.git\n",
    "\n",
    "#解凍\n",
    "!xz -dv ./mecab-ipadic-neologd/seed/*.xz"
   ]
  },
  {
   "cell_type": "code",
   "execution_count": null,
   "metadata": {},
   "outputs": [],
   "source": []
  },
  {
   "cell_type": "markdown",
   "metadata": {},
   "source": [
    "create_training_text.py"
   ]
  },
  {
   "cell_type": "code",
   "execution_count": 20,
   "metadata": {},
   "outputs": [],
   "source": [
    "import glob\n",
    "import random\n",
    "import sys\n",
    "import textwrap\n",
    "from collections import Counter"
   ]
  },
  {
   "cell_type": "code",
   "execution_count": 21,
   "metadata": {},
   "outputs": [],
   "source": [
    "def read_chars(filename):\n",
    "    # 文字種ごとの出現回数\n",
    "    count = Counter()\n",
    "    with open(filename) as chars:\n",
    "        for line in chars:\n",
    "            count[int(line.split(',')[0],base=16)] = 0\n",
    "    return count\n",
    "\n",
    "def read_all_words(dir_s):\n",
    "    words = {}\n",
    "    files = glob.glob(dir_s + '/*.csv')\n",
    "    for filename in files:\n",
    "        with open(filename, encoding='utf-8') as file:\n",
    "            for line in file:\n",
    "                word = line.split(',')[0]\n",
    "                words[word] = True\n",
    "    return list(words.keys())\n",
    "\n",
    "def main():\n",
    "    # training_bs.txt\n",
    "    text = ''\n",
    "    count_required = 20\n",
    "    chars = read_chars('chars.txt')\n",
    "    words = read_all_words('mecab-ipadic-neologd/seed')\n",
    "    print(\"Total words %d\" % len(words))\n",
    "    training = open('training_bs.txt', 'w', encoding='utf-8')\n",
    "    random.shuffle(words)\n",
    "    for word in words:\n",
    "        min_count = 10000\n",
    "        skip = False\n",
    "        # wordに含まれる文字の中で出現回数が最少のもの\n",
    "        for c in word:\n",
    "            code = ord(c)\n",
    "            if code not in chars:\n",
    "                # 文字種リストに含まれない文字がある場合はスキップ\n",
    "                skip = True\n",
    "                # スキップの場合は警告表示\n",
    "                \n",
    "                print(\"skipped %s by %s\" % (word, c), file=sys.stderr)\n",
    "                break\n",
    "            count = chars[code] + 1\n",
    "            if count < min_count:\n",
    "                min_count = count\n",
    "        # 最少出現回数が20回以下なら、この単語は「使う」\n",
    "        if not skip and min_count <= count_required:\n",
    "            text += word\n",
    "            # 使ったら出現回数をアップデート\n",
    "            for c in word:\n",
    "                code = ord(c)\n",
    "                chars[code] += 1\n",
    "    # まとめて出力\n",
    "    training.write(\"\\n\".join(textwrap.wrap(text, width=40)))\n",
    "    training.close()\n",
    "\n",
    "    # 1回も使われなかった文字\n",
    "    with open('unused_chars.txt', 'w', encoding='utf-8') as uc:\n",
    "        for c in chars:\n",
    "            if chars[c] == 0:\n",
    "                print('0x%x,%s' % (c, chr(c)), file=uc)"
   ]
  },
  {
   "cell_type": "code",
   "execution_count": null,
   "metadata": {},
   "outputs": [],
   "source": []
  },
  {
   "cell_type": "code",
   "execution_count": 22,
   "metadata": {},
   "outputs": [],
   "source": [
    "words = read_all_words('mecab-ipadic-neologd/seed')"
   ]
  },
  {
   "cell_type": "code",
   "execution_count": 24,
   "metadata": {},
   "outputs": [
    {
     "data": {
      "text/plain": [
       "5146049"
      ]
     },
     "execution_count": 24,
     "metadata": {},
     "output_type": "execute_result"
    }
   ],
   "source": [
    "len(words)"
   ]
  },
  {
   "cell_type": "code",
   "execution_count": null,
   "metadata": {},
   "outputs": [],
   "source": []
  },
  {
   "cell_type": "code",
   "execution_count": 14,
   "metadata": {
    "collapsed": true,
    "jupyter": {
     "outputs_hidden": true
    }
   },
   "outputs": [
    {
     "name": "stdout",
     "output_type": "stream",
     "text": [
      "Total words 0\n"
     ]
    }
   ],
   "source": []
  },
  {
   "cell_type": "code",
   "execution_count": null,
   "metadata": {},
   "outputs": [],
   "source": []
  },
  {
   "cell_type": "code",
   "execution_count": null,
   "metadata": {},
   "outputs": [],
   "source": []
  },
  {
   "cell_type": "markdown",
   "metadata": {},
   "source": [
    "ここまで出来たらtraining_bs.txtを使って学習雨用データをtesstrain.shで作成 <br>\n",
    "以下のコマンドで学習データがキチンととってこれるかを見る"
   ]
  },
  {
   "cell_type": "code",
   "execution_count": null,
   "metadata": {},
   "outputs": [],
   "source": [
    "nohup time bash ~/tess/tesseract/src/training/tesstrain.sh --fonts_dir /usr/share/fonts --lang jpn /\n",
    "--fontlist \"TakaoGothic\" \"TakaoPGothic\" \"VL Gothic\" \"VL PGothic\" \"Noto Sans CJK JP Bold\" \"Noto Sans CJK JP\" '必要に応じてフォントを追加' /\n",
    "--linedata_only \n",
    "--training_text ~/training_bs.txt #これが作成物  \n",
    "--langdata_dir ~/tess/langdata \n",
    "--noextract_font_properties --output_dir ~/tess/training_bs > ~/tess/training_bs/generate.log 2>&1 &"
   ]
  }
 ],
 "metadata": {
  "kernelspec": {
   "display_name": "Python 3",
   "language": "python",
   "name": "python3"
  },
  "language_info": {
   "codemirror_mode": {
    "name": "ipython",
    "version": 3
   },
   "file_extension": ".py",
   "mimetype": "text/x-python",
   "name": "python",
   "nbconvert_exporter": "python",
   "pygments_lexer": "ipython3",
   "version": "3.6.9"
  }
 },
 "nbformat": 4,
 "nbformat_minor": 4
}
